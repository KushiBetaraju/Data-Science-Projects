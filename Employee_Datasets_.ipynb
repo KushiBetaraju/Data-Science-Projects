{
  "nbformat": 4,
  "nbformat_minor": 0,
  "metadata": {
    "colab": {
      "provenance": [],
      "authorship_tag": "ABX9TyPU6ECHC6W3SNATs63ViOlQ",
      "include_colab_link": true
    },
    "kernelspec": {
      "name": "python3",
      "display_name": "Python 3"
    },
    "language_info": {
      "name": "python"
    }
  },
  "cells": [
    {
      "cell_type": "markdown",
      "metadata": {
        "id": "view-in-github",
        "colab_type": "text"
      },
      "source": [
        "<a href=\"https://colab.research.google.com/github/KushiBetaraju/Data-Science-Projects/blob/main/Employee_Datasets_.ipynb\" target=\"_parent\"><img src=\"https://colab.research.google.com/assets/colab-badge.svg\" alt=\"Open In Colab\"/></a>"
      ]
    },
    {
      "cell_type": "code",
      "source": [
        "!git clone https://github.com/KushiBetaraju/Data-Science-Projects"
      ],
      "metadata": {
        "colab": {
          "base_uri": "https://localhost:8080/"
        },
        "id": "zQmER9ADELGs",
        "outputId": "ae1312ae-756b-461d-dd5d-dd7eec218dd4"
      },
      "execution_count": null,
      "outputs": [
        {
          "output_type": "stream",
          "name": "stdout",
          "text": [
            "Cloning into 'Data-Science-Projects'...\n",
            "warning: You appear to have cloned an empty repository.\n"
          ]
        }
      ]
    },
    {
      "cell_type": "markdown",
      "source": [
        "## **Employee dataset**\n",
        "\n",
        "\n",
        "---\n",
        "\n",
        "\n",
        "---\n",
        "\n",
        "\n",
        "\n",
        "\n",
        "\n",
        "```\n",
        "Context:\n",
        "This dataset contains information about employees in a company,\n",
        "including their educational backgrounds,\n",
        "work history,\n",
        "demographics,\n",
        "and employment-related factors.\n",
        " It has been anonymized to protect privacy while still providing valuable insights into the workforce.\n",
        "```\n",
        "\n",
        "\n",
        "```\n",
        "Usage:\n",
        "This dataset can be used for various HR and workforce-related analyses, including employee retention,\n",
        "salary structure assessments,\n",
        "diversity and inclusion studies,\n",
        "and leave pattern analyses.\n",
        "Researchers, data analysts,\n",
        "and HR professionals can gain valuable insights from this dataset.\n",
        "\n",
        "```\n",
        "\n",
        "```\n",
        "\n",
        "Potential Research Questions:\n",
        "    > What is the distribution of educational qualifications among employees?\n",
        "    > How does the length of service (Joining Year) vary across different cities?\n",
        "    >How does the length of service (Joining Year) vary across different cities?\n",
        "    >Is there a correlation between Payment Tier and Experience in Current Domain?\n",
        "    >What is the gender distribution within the workforce?\n",
        "    >Are there any patterns in leave-taking behavior among employees?\n",
        "```\n",
        "\n",
        "\n",
        "\n"
      ],
      "metadata": {
        "id": "xj88GB8KWyRO"
      }
    },
    {
      "cell_type": "markdown",
      "source": [
        "**What is the distribution of educational qualifications among employees?**"
      ],
      "metadata": {
        "id": "8MS64P0VH2n0"
      }
    },
    {
      "cell_type": "code",
      "source": [
        "import pandas as pd\n",
        "\n",
        "# Load the CSV file into a Pandas DataFrame\n",
        "df = pd.read_csv(\"Employee.csv\")\n",
        "\n",
        "# the educational qualifications are in a column named \"Education\"\n",
        "education_counts = df[\"Education\"].value_counts()\n",
        "\n",
        "# Display the distribution of educational qualifications\n",
        "print(\"Distribution of Educational Qualifications among Employees:\")\n",
        "print(education_counts)\n"
      ],
      "metadata": {
        "colab": {
          "base_uri": "https://localhost:8080/"
        },
        "id": "E-HjwOsZJfUB",
        "outputId": "f9f595c9-6e77-4072-f715-e323a8018107"
      },
      "execution_count": null,
      "outputs": [
        {
          "output_type": "stream",
          "name": "stdout",
          "text": [
            "Distribution of Educational Qualifications among Employees:\n",
            "Bachelors    3601\n",
            "Masters       873\n",
            "PHD           179\n",
            "Name: Education, dtype: int64\n"
          ]
        }
      ]
    },
    {
      "cell_type": "markdown",
      "source": [
        "**How does the length of service (Joining Year) vary across different cities?**"
      ],
      "metadata": {
        "id": "Ms8QKCSwL7jN"
      }
    },
    {
      "cell_type": "code",
      "source": [
        "import pandas as pd\n",
        "\n",
        "# Load the CSV data into a Pandas DataFrame\n",
        "df = pd.read_csv(\"Employee.csv\")\n",
        "\n",
        "# Group the data by city and calculate the average joining year for each city\n",
        "city_avg_joining_year = df.groupby(\"City\")[\"JoiningYear\"].mean()\n",
        "\n",
        "# Display the result\n",
        "print(city_avg_joining_year)\n"
      ],
      "metadata": {
        "colab": {
          "base_uri": "https://localhost:8080/"
        },
        "id": "KEfDlSXyL5Yb",
        "outputId": "8bdda608-3a1d-4fb6-df31-48beb520d5f4"
      },
      "execution_count": null,
      "outputs": [
        {
          "output_type": "stream",
          "name": "stdout",
          "text": [
            "City\n",
            "Bangalore    2014.859515\n",
            "New Delhi    2015.522040\n",
            "Pune         2015.001577\n",
            "Name: JoiningYear, dtype: float64\n"
          ]
        }
      ]
    },
    {
      "cell_type": "markdown",
      "source": [
        "**Explaination of the code.**\n",
        "\n",
        "import pandasas pd\n",
        "> This line imports the Pandas library\n",
        "\n",
        "df=pd.read_csv(\"employee.csv):\n",
        "> This line reads the data from the \"employee.csv\" file and stores it in a Pandas DataFrame named df.\n",
        "\n",
        "city_avg_joining_year = df.groupby(\"City\")[\"JoiningYear\"].mean()\n",
        "> df.groupby(\"City\"): This groups the data in the DataFrame by the values in the \"City\" column. It creates separate groups for each unique city in the dataset.\n",
        "\n",
        "> [\"JoiningYear\"]: This specifies the column we are interested in within each group, which is \"JoiningYear.\"\n",
        "\n",
        "> mean(): This calculates the mean (average) of the \"JoiningYear\" column within each group, which gives you the average joining year for each city.\n",
        "\n",
        "print(city_avg_joining_year)\n",
        "> This line prints the result, which is a Pandas Series containing the average joining year for each city.\n",
        "\n",
        "\n",
        "\n",
        "\n",
        "\n",
        "\n",
        "\n",
        "\n",
        "\n",
        "\n",
        "\n",
        "\n",
        "\n",
        "\n",
        "\n",
        "\n",
        "\n"
      ],
      "metadata": {
        "id": "yFlZ43JEM3BA"
      }
    },
    {
      "cell_type": "markdown",
      "source": [
        "**Is there a correlation between Payment Tier and Experience in Current Domain?**"
      ],
      "metadata": {
        "id": "--6v2kOfS9qJ"
      }
    },
    {
      "cell_type": "code",
      "source": [
        "import pandas as pd\n",
        "import matplotlib.pyplot as plt\n",
        "\n",
        "# Load the data from the CSV file into a DataFrame\n",
        "df = pd.read_csv('Employee.csv')\n",
        "\n",
        "# Check the first few rows of the DataFrame to understand the data\n",
        "print(df.head())\n",
        "\n",
        "# Create a scatter plot to visualize the correlation between Payment Tier and Experience\n",
        "plt.scatter(df['ExperienceInCurrentDomain'], df['PaymentTier'])\n",
        "plt.xlabel('Experience (in years)')\n",
        "plt.ylabel('Payment Tier')\n",
        "plt.title('Correlation between Payment Tier and Experience')\n",
        "plt.grid(True)\n",
        "\n",
        "# Calculate the correlation coefficient (Pearson's correlation)\n",
        "correlation_coefficient = df['ExperienceInCurrentDomain'].corr(df['PaymentTier'])\n",
        "\n",
        "# Display the correlation coefficient\n",
        "print(f'Correlation Coefficient: {correlation_coefficient}')\n",
        "\n",
        "# Show the plot\n",
        "plt.show()\n"
      ],
      "metadata": {
        "colab": {
          "base_uri": "https://localhost:8080/",
          "height": 727
        },
        "id": "JP0iWM7GPF9B",
        "outputId": "bcece742-7824-47ac-e034-551174e04841"
      },
      "execution_count": null,
      "outputs": [
        {
          "output_type": "stream",
          "name": "stdout",
          "text": [
            "   Education  JoiningYear       City  PaymentTier  Age  Gender EverBenched  \\\n",
            "0  Bachelors         2017  Bangalore            3   34    Male          No   \n",
            "1  Bachelors         2013       Pune            1   28  Female          No   \n",
            "2  Bachelors         2014  New Delhi            3   38  Female          No   \n",
            "3    Masters         2016  Bangalore            3   27    Male          No   \n",
            "4    Masters         2017       Pune            3   24    Male         Yes   \n",
            "\n",
            "   ExperienceInCurrentDomain  LeaveOrNot  \n",
            "0                          0           0  \n",
            "1                          3           1  \n",
            "2                          2           0  \n",
            "3                          5           1  \n",
            "4                          2           1  \n",
            "Correlation Coefficient: 0.01831432138722414\n"
          ]
        },
        {
          "output_type": "display_data",
          "data": {
            "text/plain": [
              "<Figure size 640x480 with 1 Axes>"
            ],
            "image/png": "[encoded data removed]"
          },
          "metadata": {}
        }
      ]
    },
    {
      "cell_type": "markdown",
      "source": [
        "**Explaination of the code.**\n",
        "Import the necessary libraries, including pandas for data manipulation and matplotlib for data visualization.\n",
        "\n",
        "Load your employee data from the \"employee.csv\" file into a pandas DataFrame.\n",
        "\n",
        "Check the first few rows of the DataFrame to get an understanding of the data.\n",
        "\n",
        "Create a scatter plot to visualize the relationship between Payment Tier and Experience.\n",
        "\n",
        "Calculate the correlation coefficient (Pearson's correlation) between Payment Tier and Experience using the .corr() method.\n",
        "\n",
        "Display the correlation coefficient.\n",
        "\n",
        "Show the plot to visualize the correlation."
      ],
      "metadata": {
        "id": "Ui_WyWs5Sw8M"
      }
    },
    {
      "cell_type": "markdown",
      "source": [
        "**What is the gender distribution within the workforce?**"
      ],
      "metadata": {
        "id": "DoHERHq_SUE0"
      }
    },
    {
      "cell_type": "code",
      "source": [
        "import pandas as pd\n",
        "\n",
        "# Load the CSV file into a DataFrame\n",
        "df = pd.read_csv('Employee.csv')  # Make sure to specify the correct file path\n",
        "\n",
        "# Count the number of employees for each gender\n",
        "gender_distribution = df['Gender'].value_counts()\n",
        "\n",
        "# Print the gender distribution\n",
        "print(gender_distribution)\n"
      ],
      "metadata": {
        "colab": {
          "base_uri": "https://localhost:8080/"
        },
        "id": "H7HTfGN_PUxM",
        "outputId": "45e33ed2-aac3-4732-d8c2-6ae4517798c1"
      },
      "execution_count": null,
      "outputs": [
        {
          "output_type": "stream",
          "name": "stdout",
          "text": [
            "Male      2778\n",
            "Female    1875\n",
            "Name: Gender, dtype: int64\n"
          ]
        }
      ]
    },
    {
      "cell_type": "markdown",
      "source": [
        "**Are there any patterns in leave-taking behavior among employees?**"
      ],
      "metadata": {
        "id": "9bShS40PSBA0"
      }
    },
    {
      "cell_type": "code",
      "source": [
        "import pandas as pd\n",
        "import matplotlib.pyplot as plt\n",
        "import seaborn as sns\n",
        "\n",
        "# Load the data from the CSV file\n",
        "employee_data = pd.read_csv('Employee.csv')\n",
        "\n",
        "# Basic data exploration\n",
        "print(employee_data.head())  # View the first few rows of the data\n",
        "print(employee_data.info())  # Get information about the data\n",
        "\n",
        "# Analyze leave-taking behavior by various factors.\n",
        "\n",
        "# 1. Leave rate by Education.\n",
        "education_leave_rate = employee_data.groupby('Education')['LeaveOrNot'].mean()\n",
        "print(education_leave_rate)\n",
        "\n",
        "# 2. Leave rate by Joining Year\n",
        "joining_year_leave_rate = employee_data.groupby('JoiningYear')['LeaveOrNot'].mean()\n",
        "print(joining_year_leave_rate)\n",
        "\n",
        "# 3. Leave rate by City\n",
        "city_leave_rate = employee_data.groupby('City')['LeaveOrNot'].mean()\n",
        "print(city_leave_rate)\n",
        "\n",
        "# 4. Leave rate by Payment Tier\n",
        "payment_tier_leave_rate = employee_data.groupby('PaymentTier')['LeaveOrNot'].mean()\n",
        "print(payment_tier_leave_rate)\n",
        "\n",
        "# 5. Leave rate by Age\n",
        "# You can group ages into bins for analysis\n",
        "employee_data['AgeGroup'] = pd.cut(employee_data['Age'], bins=[20, 30, 40, 50, 60, 70])\n",
        "age_group_leave_rate = employee_data.groupby('AgeGroup')['LeaveOrNot'].mean()\n",
        "print(age_group_leave_rate)\n",
        "\n",
        "# 6. Leave rate by Gender\n",
        "gender_leave_rate = employee_data.groupby('Gender')['LeaveOrNot'].mean()\n",
        "print(gender_leave_rate)\n",
        "\n",
        "# 7. Leave rate by Experience in Current Domain\n",
        "experience_leave_rate = employee_data.groupby('ExperienceInCurrentDomain')['LeaveOrNot'].mean()\n",
        "print(experience_leave_rate)\n",
        "\n",
        "# You can also visualize these patterns using plots\n",
        "# For example, to visualize leave rate by Education\n",
        "sns.barplot(x=education_leave_rate.index, y=education_leave_rate.values)\n",
        "plt.xlabel('Education')\n",
        "plt.ylabel('Leave Rate')\n",
        "plt.title('Leave Rate by Education')\n",
        "plt.show()\n"
      ],
      "metadata": {
        "colab": {
          "base_uri": "https://localhost:8080/",
          "height": 1000
        },
        "id": "DQfZ389ZPvgP",
        "outputId": "176025f5-0039-46f2-8e01-c22cd29544cd"
      },
      "execution_count": null,
      "outputs": [
        {
          "output_type": "stream",
          "name": "stdout",
          "text": [
            "   Education  JoiningYear       City  PaymentTier  Age  Gender EverBenched  \\\n",
            "0  Bachelors         2017  Bangalore            3   34    Male          No   \n",
            "1  Bachelors         2013       Pune            1   28  Female          No   \n",
            "2  Bachelors         2014  New Delhi            3   38  Female          No   \n",
            "3    Masters         2016  Bangalore            3   27    Male          No   \n",
            "4    Masters         2017       Pune            3   24    Male         Yes   \n",
            "\n",
            "   ExperienceInCurrentDomain  LeaveOrNot  \n",
            "0                          0           0  \n",
            "1                          3           1  \n",
            "2                          2           0  \n",
            "3                          5           1  \n",
            "4                          2           1  \n",
            "<class 'pandas.core.frame.DataFrame'>\n",
            "RangeIndex: 4653 entries, 0 to 4652\n",
            "Data columns (total 9 columns):\n",
            " #   Column                     Non-Null Count  Dtype \n",
            "---  ------                     --------------  ----- \n",
            " 0   Education                  4653 non-null   object\n",
            " 1   JoiningYear                4653 non-null   int64 \n",
            " 2   City                       4653 non-null   object\n",
            " 3   PaymentTier                4653 non-null   int64 \n",
            " 4   Age                        4653 non-null   int64 \n",
            " 5   Gender                     4653 non-null   object\n",
            " 6   EverBenched                4653 non-null   object\n",
            " 7   ExperienceInCurrentDomain  4653 non-null   int64 \n",
            " 8   LeaveOrNot                 4653 non-null   int64 \n",
            "dtypes: int64(5), object(4)\n",
            "memory usage: 327.3+ KB\n",
            "None\n",
            "Education\n",
            "Bachelors    0.313524\n",
            "Masters      0.487973\n",
            "PHD          0.251397\n",
            "Name: LeaveOrNot, dtype: float64\n",
            "JoiningYear\n",
            "2012    0.216270\n",
            "2013    0.334828\n",
            "2014    0.247496\n",
            "2015    0.407170\n",
            "2016    0.222857\n",
            "2017    0.268051\n",
            "2018    0.986376\n",
            "Name: LeaveOrNot, dtype: float64\n",
            "City\n",
            "Bangalore    0.267056\n",
            "New Delhi    0.316335\n",
            "Pune         0.503943\n",
            "Name: LeaveOrNot, dtype: float64\n",
            "PaymentTier\n",
            "1    0.366255\n",
            "2    0.599129\n",
            "3    0.275200\n",
            "Name: LeaveOrNot, dtype: float64\n",
            "AgeGroup\n",
            "(20, 30]    0.354154\n",
            "(30, 40]    0.322483\n",
            "(40, 50]    0.280488\n",
            "(50, 60]         NaN\n",
            "(60, 70]         NaN\n",
            "Name: LeaveOrNot, dtype: float64\n",
            "Gender\n",
            "Female    0.471467\n",
            "Male      0.257739\n",
            "Name: LeaveOrNot, dtype: float64\n",
            "ExperienceInCurrentDomain\n",
            "0    0.349296\n",
            "1    0.336918\n",
            "2    0.367065\n",
            "3    0.380407\n",
            "4    0.319012\n",
            "5    0.313384\n",
            "6    0.250000\n",
            "7    0.333333\n",
            "Name: LeaveOrNot, dtype: float64\n"
          ]
        },
        {
          "output_type": "display_data",
          "data": {
            "text/plain": [
              "<Figure size 640x480 with 1 Axes>"
            ],
            "image/png": "[encoded data removed]"
          },
          "metadata": {}
        }
      ]
    },
    {
      "cell_type": "markdown",
      "source": [
        "**Explaination of the code.**\n",
        "> Import the necessary libraries:\n",
        "\n",
        "> > import pandas as pd:\n",
        ">     This imports the Pandas library, which is commonly used for data manipulation and analysis.\n",
        "\n",
        "\n",
        "\n",
        "> > import matplotlib.pyplot as plt:\n",
        ">     This imports the Matplotlib library for data visualization.\n",
        "Load the CSV file into a DataFrame:\n",
        "\n",
        "data = pd.read_csv('employee.csv'):\n",
        "> This line reads the data from the 'employee.csv' file and stores it in a Pandas DataFrame named data.\n",
        "\n",
        "\n",
        "\n",
        "Group and aggregate data:\n",
        "\n",
        ">leave_data = data.groupby(['EmployeeID', 'LeaveType'])['LeaveDays'].sum().reset_index(): This line groups the data by 'EmployeeID' and 'LeaveType', calculates the sum of 'LeaveDays' for each combination, and then resets the index to create a new DataFrame called leave_data. This DataFrame contains information about the total leave days for each employee and leave type combination.\n",
        "Plot a bar chart:\n",
        "\n",
        "plt.figure(figsize=(10, 6)):\n",
        ">This line sets the size of the figure for the plot.\n",
        "for leave_type, group in leave_data.groupby('LeaveType'):: This iterates through the unique leave types found in the data and groups the data accordingly.\n",
        "plt.bar(group['EmployeeID'], group['LeaveDays'], label=leave_type):\n",
        "> This line creates a bar chart for each leave type, using 'EmployeeID' on the x-axis and 'LeaveDays' on the y-axis.\n",
        "\n",
        "The label parameter is used to provide a legend for the different leave types.\n",
        "Customize the plot:\n",
        "\n",
        "> > plt.xlabel('Employee ID'):\n",
        "> Sets the label for the x-axis.\n",
        "\n",
        "> > plt.ylabel('Total Leave Days'):\n",
        ">Sets the label for the y-axis.\n",
        "\n",
        "> > plt.title('Leave-taking behavior among employees'):\n",
        ">Sets the title for the plot.\n",
        "\n",
        "> > plt.legend(title='Leave Type'):\n",
        ">Adds a legend to the plot, specifying the title for the legend.\n",
        "\n",
        "Display the plot:\n",
        ">plt.show():\n",
        "> >Finally, this line displays the bar chart with the leave-taking behavior among employees, where each bar represents the total leave days for a specific leave type.\n"
      ],
      "metadata": {
        "id": "YPFKmZGJP5pD"
      }
    }
  ]
}