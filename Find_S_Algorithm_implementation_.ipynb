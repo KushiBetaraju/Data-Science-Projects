{
  "nbformat": 4,
  "nbformat_minor": 0,
  "metadata": {
    "colab": {
      "provenance": [],
      "authorship_tag": "ABX9TyOzpp8uIcxTbhPCO5ZJ9xjR",
      "include_colab_link": true
    },
    "kernelspec": {
      "name": "python3",
      "display_name": "Python 3"
    },
    "language_info": {
      "name": "python"
    }
  },
  "cells": [
    {
      "cell_type": "markdown",
      "metadata": {
        "id": "view-in-github",
        "colab_type": "text"
      },
      "source": [
        "<a href=\"https://colab.research.google.com/github/KushiBetaraju/Data-Science-Projects/blob/main/Find_S_Algorithm_implementation_.ipynb\" target=\"_parent\"><img src=\"https://colab.research.google.com/assets/colab-badge.svg\" alt=\"Open In Colab\"/></a>"
      ]
    },
    {
      "cell_type": "code",
      "execution_count": null,
      "metadata": {
        "id": "Eff4gyzEC1-P"
      },
      "outputs": [],
      "source": [
        "import pandas as pd\n",
        "import numpy as np"
      ]
    },
    {
      "cell_type": "code",
      "source": [
        "data=pd.read_csv('data.csv')\n",
        "print(data)"
      ],
      "metadata": {
        "colab": {
          "base_uri": "https://localhost:8080/"
        },
        "id": "ZaG8HUMiDb3p",
        "outputId": "82afa62c-4687-4e20-f5e8-3ff61b567ca3"
      },
      "execution_count": null,
      "outputs": [
        {
          "output_type": "stream",
          "name": "stdout",
          "text": [
            "   Outlook\\t Temperature Humidity  Windy Play Golf\n",
            "0      Rainy         Hot     High  False        No\n",
            "1      Rainy         Hot     High   True        No\n",
            "2   Overcast         Hot     High  False       Yes\n",
            "3      Sunny        Mild     High  False       Yes\n",
            "4      Sunny        Cool   Normal  False       Yes\n",
            "5      Sunny        Cool   Normal   True        No\n",
            "6   Overcast        Cool   Normal   True       Yes\n",
            "7      Rainy        Mild     High  False        No\n",
            "8      Rainy        Cool   Normal  False       Yes\n",
            "9      Sunny        Mild   Normal  False       Yes\n",
            "10     Rainy        Mild   Normal   True       Yes\n",
            "11  Overcast        Mild     High   True       Yes\n",
            "12  Overcast         Hot   Normal  False       Yes\n",
            "13     Sunny        Mild     High   True        No\n"
          ]
        }
      ]
    },
    {
      "cell_type": "code",
      "source": [
        "concepts=np.array(data)[:,:-1]\n",
        "print(concepts)"
      ],
      "metadata": {
        "colab": {
          "base_uri": "https://localhost:8080/"
        },
        "id": "dQp_jE8iDeME",
        "outputId": "390b31cc-6556-45e4-e9e5-42f800eadaf2"
      },
      "execution_count": null,
      "outputs": [
        {
          "output_type": "stream",
          "name": "stdout",
          "text": [
            "[['Rainy' 'Hot' 'High' False]\n",
            " ['Rainy' 'Hot' 'High' True]\n",
            " ['Overcast' 'Hot' 'High' False]\n",
            " ['Sunny' 'Mild' 'High' False]\n",
            " ['Sunny' 'Cool' 'Normal' False]\n",
            " ['Sunny' 'Cool' 'Normal' True]\n",
            " ['Overcast' 'Cool' 'Normal' True]\n",
            " ['Rainy' 'Mild' 'High' False]\n",
            " ['Rainy' 'Cool' 'Normal' False]\n",
            " ['Sunny' 'Mild' 'Normal' False]\n",
            " ['Rainy' 'Mild' 'Normal' True]\n",
            " ['Overcast' 'Mild' 'High' True]\n",
            " ['Overcast' 'Hot' 'Normal' False]\n",
            " ['Sunny' 'Mild' 'High' True]]\n"
          ]
        }
      ]
    },
    {
      "cell_type": "code",
      "source": [
        "target=np.array(data)[:,-1]\n",
        "print(target)"
      ],
      "metadata": {
        "colab": {
          "base_uri": "https://localhost:8080/"
        },
        "id": "_5uLNM4MDiYj",
        "outputId": "fd88477e-bf2f-4575-9412-952104649a09"
      },
      "execution_count": null,
      "outputs": [
        {
          "output_type": "stream",
          "name": "stdout",
          "text": [
            "['No' 'No' 'Yes' 'Yes' 'Yes' 'No' 'Yes' 'No' 'Yes' 'Yes' 'Yes' 'Yes' 'Yes'\n",
            " 'No']\n"
          ]
        }
      ]
    },
    {
      "cell_type": "code",
      "source": [
        "def train(con,tar):\n",
        "    for i, val in enumerate(tar):\n",
        "        if val.lower()=='yes':\n",
        "            specific_h=con[i].copy()\n",
        "            break\n",
        "\n",
        "    for i, val in enumerate(con):\n",
        "        if tar[i].lower()=='yes':\n",
        "            for x in range(len(specific_h)):\n",
        "                if val[x] != specific_h[x]:\n",
        "                    specific_h[x]='?'\n",
        "                else:\n",
        "                    pass\n",
        "    return specific_h"
      ],
      "metadata": {
        "id": "rvWMc5KPDl22"
      },
      "execution_count": null,
      "outputs": []
    },
    {
      "cell_type": "code",
      "source": [
        "print(train(concepts,target))\n",
        "\n"
      ],
      "metadata": {
        "colab": {
          "base_uri": "https://localhost:8080/"
        },
        "id": "13TTlVcfDnga",
        "outputId": "9d288961-250f-4785-d017-23322c197b3a"
      },
      "execution_count": null,
      "outputs": [
        {
          "output_type": "stream",
          "name": "stdout",
          "text": [
            "['?' '?' '?' '?']\n"
          ]
        }
      ]
    }
  ]
}